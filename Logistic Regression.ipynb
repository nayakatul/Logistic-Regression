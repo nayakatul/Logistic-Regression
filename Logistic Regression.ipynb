{
 "cells": [
  {
   "cell_type": "code",
   "execution_count": 50,
   "id": "8d9d9d7c",
   "metadata": {},
   "outputs": [
    {
     "data": {
      "text/html": [
       "<div>\n",
       "<style scoped>\n",
       "    .dataframe tbody tr th:only-of-type {\n",
       "        vertical-align: middle;\n",
       "    }\n",
       "\n",
       "    .dataframe tbody tr th {\n",
       "        vertical-align: top;\n",
       "    }\n",
       "\n",
       "    .dataframe thead th {\n",
       "        text-align: right;\n",
       "    }\n",
       "</style>\n",
       "<table border=\"1\" class=\"dataframe\">\n",
       "  <thead>\n",
       "    <tr style=\"text-align: right;\">\n",
       "      <th></th>\n",
       "      <th>Obs</th>\n",
       "      <th>Financial Condition</th>\n",
       "      <th>TotCap/Assets</th>\n",
       "      <th>TotExp/Assets</th>\n",
       "      <th>TotLns&amp;Lses/Assets</th>\n",
       "    </tr>\n",
       "  </thead>\n",
       "  <tbody>\n",
       "    <tr>\n",
       "      <th>0</th>\n",
       "      <td>1</td>\n",
       "      <td>1</td>\n",
       "      <td>9.7</td>\n",
       "      <td>0.12</td>\n",
       "      <td>0.65</td>\n",
       "    </tr>\n",
       "    <tr>\n",
       "      <th>1</th>\n",
       "      <td>2</td>\n",
       "      <td>1</td>\n",
       "      <td>1.0</td>\n",
       "      <td>0.11</td>\n",
       "      <td>0.62</td>\n",
       "    </tr>\n",
       "    <tr>\n",
       "      <th>2</th>\n",
       "      <td>3</td>\n",
       "      <td>1</td>\n",
       "      <td>6.9</td>\n",
       "      <td>0.09</td>\n",
       "      <td>1.02</td>\n",
       "    </tr>\n",
       "    <tr>\n",
       "      <th>3</th>\n",
       "      <td>4</td>\n",
       "      <td>1</td>\n",
       "      <td>5.8</td>\n",
       "      <td>0.10</td>\n",
       "      <td>0.67</td>\n",
       "    </tr>\n",
       "    <tr>\n",
       "      <th>4</th>\n",
       "      <td>5</td>\n",
       "      <td>1</td>\n",
       "      <td>4.3</td>\n",
       "      <td>0.11</td>\n",
       "      <td>0.69</td>\n",
       "    </tr>\n",
       "  </tbody>\n",
       "</table>\n",
       "</div>"
      ],
      "text/plain": [
       "   Obs  Financial Condition  TotCap/Assets  TotExp/Assets  TotLns&Lses/Assets\n",
       "0    1                    1            9.7           0.12                0.65\n",
       "1    2                    1            1.0           0.11                0.62\n",
       "2    3                    1            6.9           0.09                1.02\n",
       "3    4                    1            5.8           0.10                0.67\n",
       "4    5                    1            4.3           0.11                0.69"
      ]
     },
     "execution_count": 50,
     "metadata": {},
     "output_type": "execute_result"
    }
   ],
   "source": [
    "import pandas as pd\n",
    "import math \n",
    "import numpy as np\n",
    "import matplotlib.pyplot as plt\n",
    "\n",
    "banks=pd.read_csv(\"./banks-1.csv\")\n",
    "banks.head(5)\n"
   ]
  },
  {
   "cell_type": "code",
   "execution_count": 51,
   "id": "2b6f8a44",
   "metadata": {},
   "outputs": [],
   "source": [
    "def sigmoid_func(z):\n",
    "    h= 1/(1+np.exp(-z))\n",
    "    return h\n"
   ]
  },
  {
   "cell_type": "code",
   "execution_count": 52,
   "id": "dde765c2",
   "metadata": {},
   "outputs": [],
   "source": [
    "def z_value(weights_list, f_val_list):\n",
    "    z=0\n",
    "    for j in range(len(weights_list)):\n",
    "        if j==0:\n",
    "            z=weights_list[j]\n",
    "        else:\n",
    "            z += weights_list[j]*f_val_list[j-1]\n",
    "    return z"
   ]
  },
  {
   "cell_type": "code",
   "execution_count": 53,
   "id": "cec325ac",
   "metadata": {},
   "outputs": [
    {
     "data": {
      "text/plain": [
       "0.6931471805599453"
      ]
     },
     "execution_count": 53,
     "metadata": {},
     "output_type": "execute_result"
    }
   ],
   "source": [
    "def cost_func(banks, weights_list, features_list, label):\n",
    "    c = 0\n",
    "    for i in range(len(banks)):\n",
    "        f_val_list = list(banks.loc[i, features_list])\n",
    "        val = z_value(weights_list, f_val_list)\n",
    "        pred = sigmoid_func(val)\n",
    "        label_iter = banks.loc[i, label]\n",
    "        c += (label_iter * np.log(pred) + ((1 - label_iter) * np.log(1 - pred)))\n",
    "    return (-c / len(banks))\n",
    "a=cost_func(banks, [0,0,0], [\"TotLns&Lses/Assets\", \"TotExp/Assets\"] , \"Financial Condition\")\n",
    "a"
   ]
  },
  {
   "cell_type": "code",
   "execution_count": 54,
   "id": "b44deb82",
   "metadata": {},
   "outputs": [
    {
     "data": {
      "text/plain": [
       "(0.5, [2.5, -0.25])"
      ]
     },
     "execution_count": 54,
     "metadata": {},
     "output_type": "execute_result"
    }
   ],
   "source": [
    "def gradient_descent(banks, weights_list, features_list, label):\n",
    "    gradient = []\n",
    "    for f in range(len(features_list)):\n",
    "        grad = 0\n",
    "        for i in range(len(banks)):\n",
    "            f_val_list = list(banks.loc[i, features_list])\n",
    "            val = z_value(weights_list, f_val_list)\n",
    "            pred = sigmoid_func(val)\n",
    "            diff = (pred - banks.loc[i, label])\n",
    "            grad += diff * banks.iloc[i, f]\n",
    "        gradient.append(grad / len(banks))\n",
    "    \n",
    "    diff = (pred - banks.loc[i, label])\n",
    "    grad_init = np.mean(diff)\n",
    "    return grad_init, gradient\n",
    "w=gradient_descent(banks, [0,0,0],[\"TotLns&Lses/Assets\", \"TotExp/Assets\"], \"Financial Condition\")\n",
    "w"
   ]
  },
  {
   "cell_type": "code",
   "execution_count": 55,
   "id": "971c8739",
   "metadata": {},
   "outputs": [
    {
     "data": {
      "text/plain": [
       "[0.0, -0.025, 0.0025]"
      ]
     },
     "execution_count": 55,
     "metadata": {},
     "output_type": "execute_result"
    }
   ],
   "source": [
    "def update_weight(alpha, weights_list, gradient_initial, gradient):\n",
    "    for a in range(len(weights_list)):\n",
    "        if a == 0:\n",
    "            weights_list[a] = weights_list[a] - (alpha * gradient_initial)\n",
    "        else:\n",
    "            weights_list[a] = weights_list[a] - (alpha * gradient[a - 1])\n",
    "    return weights_list\n",
    "update_weight(0.01, [0,0,0], 0, [2.5, -0.25])"
   ]
  },
  {
   "cell_type": "code",
   "execution_count": 56,
   "id": "4adbf7cb",
   "metadata": {},
   "outputs": [],
   "source": [
    "def plot_cost_over_time(cost_list):\n",
    "    plt.plot(cost_list)\n",
    "    plt.title('Cost over Time')\n",
    "    plt.xlabel('Iteration')\n",
    "    plt.ylabel('Cost')\n",
    "    plt.show()"
   ]
  },
  {
   "cell_type": "code",
   "execution_count": 57,
   "id": "ca010628",
   "metadata": {},
   "outputs": [],
   "source": [
    "def cost_compare(cost_list, threshold):\n",
    "    l=len(cost_list)\n",
    "    if (cost_list[l-1]-cost_list[l-2]>=threshold):\n",
    "        return True\n",
    "    else: \n",
    "        return False\n",
    "    "
   ]
  },
  {
   "cell_type": "code",
   "execution_count": 58,
   "id": "3d46e0a6",
   "metadata": {},
   "outputs": [
    {
     "name": "stdout",
     "output_type": "stream",
     "text": [
      "[0.9819805205352429, 0.9774956038895537, 0.9730502702105538, 0.9686446194606013, 0.9642787457372665, 0.9599527372109792, 0.9556666760659805, 0.9514206384446547, 0.9472146943953167, 0.9430489078235217, 0.9389233364469647, 0.9348380317540277, 0.9307930389660338, 0.9267883970032587, 0.9228241384547458, 0.9189002895519671, 0.9150168701463688, 0.9111738936908326, 0.9073713672250763, 0.9036092913650233, 0.8998876602961499, 0.8962064617708266, 0.8925656771096566, 0.8889652812068144, 0.8854052425393769, 0.8818855231806431, 0.8784060788174191, 0.8749668587712535, 0.8715678060235976, 0.8682088572448559, 0.864889942827294, 0.8616109869217622, 0.8583719074781889, 0.8551726162897915, 0.8520130190409538, 0.8488930153587033, 0.8458124988677295, 0.8427713572488731, 0.8397694723010088, 0.8368067200062537, 0.8338829705984088, 0.8309980886345597, 0.8281519330697418, 0.8253443573345806, 0.8225752094158141, 0.8198443319395972, 0.8171515622574896, 0.8144967325350236, 0.8118796698427488, 0.8093001962496433, 0.8067581289187867, 0.8042532802051786, 0.801785457755598, 0.7993544646103812, 0.7969600993070134, 0.7946021559854107, 0.792280424494781, 0.7899946905019477, 0.7877447356010177, 0.785530337424278, 0.783351269754207, 0.7812073026364799, 0.7790982024938586, 0.777023732240848, 0.7749836513990063, 0.7729777162127955, 0.7710056797658661, 0.769067292097658, 0.767162300320219, 0.7652904487351269, 0.763451478950415, 0.7616451299973991, 0.7598711384473014, 0.7581292385275795, 0.7564191622378602, 0.7547406394653875, 0.7530933980998931, 0.7514771641478012, 0.7498916618456863, 0.7483366137728947, 0.7468117409632569, 0.7453167630158097, 0.7438513982044588, 0.7424153635865061, 0.7410083751099781, 0.7396301477196898, 0.7382803954619812, 0.7369588315880705, 0.7356651686559657, 0.7343991186308862, 0.7331603929841404, 0.7319487027904172, 0.7307637588234486, 0.7296052716499959, 0.7284729517221362, 0.7273665094677995, 0.7262856553795364, 0.7252301001014843, 0.7241995545145046, 0.7231937298194708]\n"
     ]
    }
   ],
   "source": [
    "def main_iterate(banks, features_list, label, alpha, threshold=0.001):\n",
    "    weight_initial = [1, 1, 1]\n",
    "    cost_list = []\n",
    "    cost = cost_func(banks, weight_initial, features_list, label)\n",
    "    cost_list.append(cost)\n",
    "    i=0\n",
    "    while True:\n",
    "        i += 1\n",
    "#         print(cost)\n",
    "        grad = gradient_descent(banks, weight_initial, features_list, label)\n",
    "        new_weight = update_weight(alpha, weight_initial, grad[0], grad[1])\n",
    "        new_cost = cost_func(banks, new_weight, features_list, label)\n",
    "        cost_diff = cost - new_cost\n",
    "        if cost_diff <= threshold or cost < new_cost:\n",
    "            break\n",
    "        cost = new_cost\n",
    "        cost_list.append(cost)\n",
    "        weight_initial = new_weight \n",
    "\n",
    "    return new_weight, cost_list, i\n",
    "\n",
    "m = main_iterate(banks, [\"TotExp/Assets\", \"TotLns&Lses/Assets\"], \"Financial Condition\", 0.01)\n",
    "\n",
    "weights_list=m[0]\n",
    "cost_list=m[1]\n",
    "print(cost_list)\n"
   ]
  },
  {
   "cell_type": "code",
   "execution_count": 59,
   "id": "66874a79",
   "metadata": {},
   "outputs": [
    {
     "data": {
      "image/png": "[encoded data removed]",
      "text/plain": [
       "<Figure size 640x480 with 1 Axes>"
      ]
     },
     "metadata": {},
     "output_type": "display_data"
    }
   ],
   "source": [
    "plot_cost_over_time(cost_list)"
   ]
  }
 ],
 "metadata": {
  "kernelspec": {
   "display_name": "Python 3 (ipykernel)",
   "language": "python",
   "name": "python3"
  },
  "language_info": {
   "codemirror_mode": {
    "name": "ipython",
    "version": 3
   },
   "file_extension": ".py",
   "mimetype": "text/x-python",
   "name": "python",
   "nbconvert_exporter": "python",
   "pygments_lexer": "ipython3",
   "version": "3.9.13"
  }
 },
 "nbformat": 4,
 "nbformat_minor": 5
}
