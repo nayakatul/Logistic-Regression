{
 "cells": [
  {
   "cell_type": "code",
   "execution_count": 1,
   "id": "78412410",
   "metadata": {},
   "outputs": [
    {
     "data": {
      "text/html": [
       "<div>\n",
       "<style scoped>\n",
       "    .dataframe tbody tr th:only-of-type {\n",
       "        vertical-align: middle;\n",
       "    }\n",
       "\n",
       "    .dataframe tbody tr th {\n",
       "        vertical-align: top;\n",
       "    }\n",
       "\n",
       "    .dataframe thead th {\n",
       "        text-align: right;\n",
       "    }\n",
       "</style>\n",
       "<table border=\"1\" class=\"dataframe\">\n",
       "  <thead>\n",
       "    <tr style=\"text-align: right;\">\n",
       "      <th></th>\n",
       "      <th>Obs</th>\n",
       "      <th>Financial Condition</th>\n",
       "      <th>TotCap/Assets</th>\n",
       "      <th>TotExp/Assets</th>\n",
       "      <th>TotLns&amp;Lses/Assets</th>\n",
       "    </tr>\n",
       "  </thead>\n",
       "  <tbody>\n",
       "    <tr>\n",
       "      <th>0</th>\n",
       "      <td>1</td>\n",
       "      <td>1</td>\n",
       "      <td>9.7</td>\n",
       "      <td>0.12</td>\n",
       "      <td>0.65</td>\n",
       "    </tr>\n",
       "    <tr>\n",
       "      <th>1</th>\n",
       "      <td>2</td>\n",
       "      <td>1</td>\n",
       "      <td>1.0</td>\n",
       "      <td>0.11</td>\n",
       "      <td>0.62</td>\n",
       "    </tr>\n",
       "    <tr>\n",
       "      <th>2</th>\n",
       "      <td>3</td>\n",
       "      <td>1</td>\n",
       "      <td>6.9</td>\n",
       "      <td>0.09</td>\n",
       "      <td>1.02</td>\n",
       "    </tr>\n",
       "    <tr>\n",
       "      <th>3</th>\n",
       "      <td>4</td>\n",
       "      <td>1</td>\n",
       "      <td>5.8</td>\n",
       "      <td>0.10</td>\n",
       "      <td>0.67</td>\n",
       "    </tr>\n",
       "    <tr>\n",
       "      <th>4</th>\n",
       "      <td>5</td>\n",
       "      <td>1</td>\n",
       "      <td>4.3</td>\n",
       "      <td>0.11</td>\n",
       "      <td>0.69</td>\n",
       "    </tr>\n",
       "    <tr>\n",
       "      <th>5</th>\n",
       "      <td>6</td>\n",
       "      <td>1</td>\n",
       "      <td>9.1</td>\n",
       "      <td>0.13</td>\n",
       "      <td>0.74</td>\n",
       "    </tr>\n",
       "    <tr>\n",
       "      <th>6</th>\n",
       "      <td>7</td>\n",
       "      <td>1</td>\n",
       "      <td>11.9</td>\n",
       "      <td>0.10</td>\n",
       "      <td>0.79</td>\n",
       "    </tr>\n",
       "    <tr>\n",
       "      <th>7</th>\n",
       "      <td>8</td>\n",
       "      <td>1</td>\n",
       "      <td>8.1</td>\n",
       "      <td>0.13</td>\n",
       "      <td>0.63</td>\n",
       "    </tr>\n",
       "    <tr>\n",
       "      <th>8</th>\n",
       "      <td>9</td>\n",
       "      <td>1</td>\n",
       "      <td>9.3</td>\n",
       "      <td>0.16</td>\n",
       "      <td>0.72</td>\n",
       "    </tr>\n",
       "    <tr>\n",
       "      <th>9</th>\n",
       "      <td>10</td>\n",
       "      <td>1</td>\n",
       "      <td>1.1</td>\n",
       "      <td>0.16</td>\n",
       "      <td>0.57</td>\n",
       "    </tr>\n",
       "  </tbody>\n",
       "</table>\n",
       "</div>"
      ],
      "text/plain": [
       "   Obs  Financial Condition  TotCap/Assets  TotExp/Assets  TotLns&Lses/Assets\n",
       "0    1                    1            9.7           0.12                0.65\n",
       "1    2                    1            1.0           0.11                0.62\n",
       "2    3                    1            6.9           0.09                1.02\n",
       "3    4                    1            5.8           0.10                0.67\n",
       "4    5                    1            4.3           0.11                0.69\n",
       "5    6                    1            9.1           0.13                0.74\n",
       "6    7                    1           11.9           0.10                0.79\n",
       "7    8                    1            8.1           0.13                0.63\n",
       "8    9                    1            9.3           0.16                0.72\n",
       "9   10                    1            1.1           0.16                0.57"
      ]
     },
     "execution_count": 1,
     "metadata": {},
     "output_type": "execute_result"
    }
   ],
   "source": [
    "import pandas as pd\n",
    "import numpy as np\n",
    "import matplotlib.pyplot as plt\n",
    "\n",
    "# Load data\n",
    "banks = pd.read_csv(\"./banks-1.csv\")\n",
    "banks.head(10)\n"
   ]
  },
  {
   "cell_type": "code",
   "execution_count": 2,
   "id": "b861c1e2",
   "metadata": {},
   "outputs": [
    {
     "data": {
      "text/html": [
       "<div>\n",
       "<style scoped>\n",
       "    .dataframe tbody tr th:only-of-type {\n",
       "        vertical-align: middle;\n",
       "    }\n",
       "\n",
       "    .dataframe tbody tr th {\n",
       "        vertical-align: top;\n",
       "    }\n",
       "\n",
       "    .dataframe thead th {\n",
       "        text-align: right;\n",
       "    }\n",
       "</style>\n",
       "<table border=\"1\" class=\"dataframe\">\n",
       "  <thead>\n",
       "    <tr style=\"text-align: right;\">\n",
       "      <th></th>\n",
       "      <th>Obs</th>\n",
       "      <th>Financial Condition</th>\n",
       "      <th>TotCap/Assets</th>\n",
       "      <th>TotExp/Assets</th>\n",
       "      <th>TotLns&amp;Lses/Assets</th>\n",
       "    </tr>\n",
       "  </thead>\n",
       "  <tbody>\n",
       "    <tr>\n",
       "      <th>0</th>\n",
       "      <td>1</td>\n",
       "      <td>1</td>\n",
       "      <td>9.7</td>\n",
       "      <td>0.594974</td>\n",
       "      <td>0.134561</td>\n",
       "    </tr>\n",
       "    <tr>\n",
       "      <th>1</th>\n",
       "      <td>2</td>\n",
       "      <td>1</td>\n",
       "      <td>1.0</td>\n",
       "      <td>0.211120</td>\n",
       "      <td>-0.053199</td>\n",
       "    </tr>\n",
       "    <tr>\n",
       "      <th>2</th>\n",
       "      <td>3</td>\n",
       "      <td>1</td>\n",
       "      <td>6.9</td>\n",
       "      <td>-0.556588</td>\n",
       "      <td>2.450265</td>\n",
       "    </tr>\n",
       "    <tr>\n",
       "      <th>3</th>\n",
       "      <td>4</td>\n",
       "      <td>1</td>\n",
       "      <td>5.8</td>\n",
       "      <td>-0.172734</td>\n",
       "      <td>0.259734</td>\n",
       "    </tr>\n",
       "    <tr>\n",
       "      <th>4</th>\n",
       "      <td>5</td>\n",
       "      <td>1</td>\n",
       "      <td>4.3</td>\n",
       "      <td>0.211120</td>\n",
       "      <td>0.384908</td>\n",
       "    </tr>\n",
       "    <tr>\n",
       "      <th>5</th>\n",
       "      <td>6</td>\n",
       "      <td>1</td>\n",
       "      <td>9.1</td>\n",
       "      <td>0.978828</td>\n",
       "      <td>0.697841</td>\n",
       "    </tr>\n",
       "    <tr>\n",
       "      <th>6</th>\n",
       "      <td>7</td>\n",
       "      <td>1</td>\n",
       "      <td>11.9</td>\n",
       "      <td>-0.172734</td>\n",
       "      <td>1.010773</td>\n",
       "    </tr>\n",
       "    <tr>\n",
       "      <th>7</th>\n",
       "      <td>8</td>\n",
       "      <td>1</td>\n",
       "      <td>8.1</td>\n",
       "      <td>0.978828</td>\n",
       "      <td>0.009388</td>\n",
       "    </tr>\n",
       "    <tr>\n",
       "      <th>8</th>\n",
       "      <td>9</td>\n",
       "      <td>1</td>\n",
       "      <td>9.3</td>\n",
       "      <td>2.130390</td>\n",
       "      <td>0.572667</td>\n",
       "    </tr>\n",
       "    <tr>\n",
       "      <th>9</th>\n",
       "      <td>10</td>\n",
       "      <td>1</td>\n",
       "      <td>1.1</td>\n",
       "      <td>2.130390</td>\n",
       "      <td>-0.366132</td>\n",
       "    </tr>\n",
       "  </tbody>\n",
       "</table>\n",
       "</div>"
      ],
      "text/plain": [
       "   Obs  Financial Condition  TotCap/Assets  TotExp/Assets  TotLns&Lses/Assets\n",
       "0    1                    1            9.7       0.594974            0.134561\n",
       "1    2                    1            1.0       0.211120           -0.053199\n",
       "2    3                    1            6.9      -0.556588            2.450265\n",
       "3    4                    1            5.8      -0.172734            0.259734\n",
       "4    5                    1            4.3       0.211120            0.384908\n",
       "5    6                    1            9.1       0.978828            0.697841\n",
       "6    7                    1           11.9      -0.172734            1.010773\n",
       "7    8                    1            8.1       0.978828            0.009388\n",
       "8    9                    1            9.3       2.130390            0.572667\n",
       "9   10                    1            1.1       2.130390           -0.366132"
      ]
     },
     "execution_count": 2,
     "metadata": {},
     "output_type": "execute_result"
    }
   ],
   "source": [
    "# Normalization of features\n",
    "features_list = [\"TotLns&Lses/Assets\", \"TotExp/Assets\"]\n",
    "for feature in features_list:\n",
    "    mean = banks[feature].mean()\n",
    "    std = banks[feature].std()\n",
    "    banks[feature] = (banks[feature] - mean) / std\n",
    "\n",
    "banks.head(10)"
   ]
  },
  {
   "cell_type": "code",
   "execution_count": 3,
   "id": "1b776a22",
   "metadata": {},
   "outputs": [],
   "source": [
    "def sigmoid_func(z):\n",
    "    return 1/(1+np.exp(-z))\n",
    "\n"
   ]
  },
  {
   "cell_type": "code",
   "execution_count": 4,
   "id": "6d7e85e5",
   "metadata": {},
   "outputs": [],
   "source": [
    "def z_value(weights_list, f_val_list):\n",
    "    return sum([w*f for w, f in zip(weights_list[1:], f_val_list)]) + weights_list[0]\n",
    "\n"
   ]
  },
  {
   "cell_type": "code",
   "execution_count": 5,
   "id": "5e9203d9",
   "metadata": {},
   "outputs": [
    {
     "data": {
      "text/plain": [
       "0.6931471805599453"
      ]
     },
     "execution_count": 5,
     "metadata": {},
     "output_type": "execute_result"
    }
   ],
   "source": [
    "def cost_func(banks, weights_list, features_list, label, lambda_reg=0.01):\n",
    "    c = 0\n",
    "    m = len(banks)\n",
    "    for i in range(m):\n",
    "        f_val_list = list(banks.loc[i, features_list])\n",
    "        val = z_value(weights_list, f_val_list)\n",
    "        pred = sigmoid_func(val)\n",
    "        label_iter = banks.loc[i, label]\n",
    "        c += (label_iter * np.log(pred) + ((1 - label_iter) * np.log(1 - pred)))\n",
    "    reg = (lambda_reg / (2 * m)) * sum([w**2 for w in weights_list[1:]])\n",
    "    return (-c / m) + reg\n",
    "\n",
    "a=cost_func(banks, [0,0,0], [\"TotLns&Lses/Assets\", \"TotExp/Assets\"] , \"Financial Condition\")\n",
    "a"
   ]
  },
  {
   "cell_type": "code",
   "execution_count": 6,
   "id": "199eeec9",
   "metadata": {},
   "outputs": [
    {
     "data": {
      "text/plain": [
       "[0.0, -0.25504036467542884, -0.31667959130920365]"
      ]
     },
     "execution_count": 6,
     "metadata": {},
     "output_type": "execute_result"
    }
   ],
   "source": [
    "def gradient_descent(banks, weights_list, features_list, label, lambda_reg=0.01):\n",
    "    gradient = [0 for _ in weights_list]\n",
    "    m = len(banks)\n",
    "    for i in range(m):\n",
    "        f_val_list = list(banks.loc[i, features_list])\n",
    "        val = z_value(weights_list, f_val_list)\n",
    "        pred = sigmoid_func(val)\n",
    "        diff = pred - banks.loc[i, label]\n",
    "        gradient[0] += diff\n",
    "        for j in range(1, len(weights_list)):\n",
    "            gradient[j] += diff * f_val_list[j-1] + (lambda_reg / m) * weights_list[j]\n",
    "    return [g / m for g in gradient]\n",
    "\n",
    "w=gradient_descent(banks, [0,0,0],[\"TotLns&Lses/Assets\", \"TotExp/Assets\"], \"Financial Condition\")\n",
    "w"
   ]
  },
  {
   "cell_type": "code",
   "execution_count": 7,
   "id": "87cc9c22",
   "metadata": {},
   "outputs": [],
   "source": [
    "def update_weight(alpha, weights_list, gradient):\n",
    "    return [w - alpha*g for w, g in zip(weights_list, gradient)]\n"
   ]
  },
  {
   "cell_type": "code",
   "execution_count": 8,
   "id": "f481862d",
   "metadata": {},
   "outputs": [],
   "source": [
    "def plot_cost_over_time(cost_list):\n",
    "    plt.plot(cost_list)\n",
    "    plt.title('Cost over Time')\n",
    "    plt.xlabel('Iteration')\n",
    "    plt.ylabel('Cost')\n",
    "    plt.show()\n",
    "\n"
   ]
  },
  {
   "cell_type": "code",
   "execution_count": 9,
   "id": "956bcc8c",
   "metadata": {},
   "outputs": [
    {
     "name": "stdout",
     "output_type": "stream",
     "text": [
      "[0.6931471805599453, 0.69149632569863, 0.6898552840554242, 0.6882239969673535, 0.6866024059514764, 0.6849904527084226, 0.6833880791258364, 0.6817952272817301, 0.6802118394477469, 0.6786378580923376, 0.6770732258838457, 0.6755178856935068, 0.6739717805983623, 0.6724348538840855, 0.6709070490477255, 0.6693883098003655, 0.6678785800696987, 0.6663778040025234, 0.6648859259671558, 0.6634028905557647, 0.6619286425866241, 0.6604631271062916, 0.6590062893917076, 0.6575580749522186, 0.6561184295315267, 0.6546872991095635, 0.6532646299042925, 0.6518503683734389, 0.6504444612161489, 0.6490468553745784, 0.6476574980354137, 0.6462763366313234, 0.6449033188423451, 0.6435383925972048, 0.6421815060745723, 0.6408326077042525, 0.6394916461683151, 0.6381585704021608, 0.6368333295955291, 0.6355158731934454, 0.6342061508971091, 0.6329041126647247, 0.6316097087122764, 0.6303228895142484, 0.6290436058042873, 0.6277718085758153, 0.6265074490825872, 0.6252504788391985, 0.624000849621542, 0.6227585134672144, 0.6215234226758735, 0.620295529809552, 0.6190747876929191, 0.6178611494135003, 0.61665456832185, 0.6154549980316824, 0.6142623924199578, 0.613076705626928, 0.6118978920561393, 0.6107259063743976, 0.6095607035116909, 0.6084022386610769, 0.6072504672785315, 0.6061053450827578, 0.6049668280549659, 0.6038348724386112, 0.6027094347391019, 0.6015904717234721, 0.6004779404200234, 0.5993717981179338, 0.5982720023668356, 0.597178510976364, 0.5960912820156756, 0.5950102738129388, 0.5939354449547957, 0.5928667542857983, 0.5918041609078156, 0.5907476241794195, 0.5896971037152396, 0.5886525593853004, 0.5876139513143294, 0.5865812398810463, 0.5855543857174275, 0.5845333497079501, 0.5835180929888146, 0.5825085769471486, 0.5815047632201881, 0.5805066136944428]\n"
     ]
    }
   ],
   "source": [
    "def main_iterate(banks, features_list, label, alpha, threshold=0.001, lambda_reg=0.01):\n",
    "    weight_initial = [0 for _ in features_list] + [0]\n",
    "    cost_list = []\n",
    "    cost = cost_func(banks, weight_initial, features_list, label, lambda_reg)\n",
    "    cost_list.append(cost)\n",
    "    while True:\n",
    "        gradient = gradient_descent(banks, weight_initial, features_list, label, lambda_reg)\n",
    "        weight_initial = update_weight(alpha, weight_initial, gradient)\n",
    "        new_cost = cost_func(banks, weight_initial, features_list, label, lambda_reg)\n",
    "        cost_list.append(new_cost)\n",
    "        if abs(new_cost - cost) <= threshold:\n",
    "            break\n",
    "        cost = new_cost\n",
    "    return weight_initial, cost_list\n",
    "\n",
    "m = main_iterate(banks, [\"TotExp/Assets\", \"TotLns&Lses/Assets\"], \"Financial Condition\", 0.01)\n",
    "\n",
    "weights_list=m[0]\n",
    "cost_list=m[1]\n",
    "print(cost_list)"
   ]
  },
  {
   "cell_type": "code",
   "execution_count": 10,
   "id": "99348da9",
   "metadata": {},
   "outputs": [
    {
     "data": {
      "image/png": "[encoded data removed]",
      "text/plain": [
       "<Figure size 640x480 with 1 Axes>"
      ]
     },
     "metadata": {},
     "output_type": "display_data"
    }
   ],
   "source": [
    "plot_cost_over_time(cost_list)"
   ]
  },
  {
   "cell_type": "code",
   "execution_count": 11,
   "id": "c91a8eea",
   "metadata": {},
   "outputs": [],
   "source": [
    "def split_data(data):\n",
    "    data = data.sample(frac=1).reset_index(drop=True)\n",
    "    total_len = len(data)\n",
    "    train_len = int(0.7 * total_len)\n",
    "    test_len = int(0.2 * total_len)\n",
    "    train = data.iloc[:train_len].reset_index(drop=True)\n",
    "    test = data.iloc[train_len:train_len + test_len].reset_index(drop=True)\n",
    "    val = data.iloc[train_len + test_len:].reset_index(drop=True)\n",
    "    return train, test, val\n",
    "\n"
   ]
  },
  {
   "cell_type": "code",
   "execution_count": 12,
   "id": "13be3d12",
   "metadata": {},
   "outputs": [],
   "source": [
    "def predict(data, weights, features):\n",
    "    predictions = []\n",
    "    for i in range(len(data)):\n",
    "        f_val_list = list(data.loc[i, features])\n",
    "        val = z_value(weights, f_val_list)\n",
    "        pred = sigmoid_func(val)\n",
    "        predictions.append(1 if pred > 0.5 else 0)\n",
    "    return predictions\n",
    "\n"
   ]
  },
  {
   "cell_type": "code",
   "execution_count": 13,
   "id": "fac754ab",
   "metadata": {},
   "outputs": [],
   "source": [
    "def evaluate_metrics(true_labels, predicted_labels):\n",
    "    from sklearn.metrics import confusion_matrix\n",
    "    matrix = confusion_matrix(true_labels, predicted_labels)\n",
    "    if matrix.shape == (1, 1):\n",
    "        if true_labels[0] == 0:\n",
    "            tn = matrix[0][0]\n",
    "            fp, fn, tp = 0, 0, 0\n",
    "        else:\n",
    "            tp = matrix[0][0]\n",
    "            tn, fp, fn = 0, 0, 0\n",
    "    else:\n",
    "        tn, fp, fn, tp = matrix.ravel()\n",
    "    \n",
    "    accuracy = (tp + tn) / (tp + tn + fp + fn)\n",
    "    precision = tp / (tp + fp) if (tp + fp) != 0 else 0\n",
    "    recall = tp / (tp + fn) if (tp + fn) != 0 else 0\n",
    "    f1 = 2 * (precision * recall) / (precision + recall) if (precision + recall) != 0 else 0\n",
    "    return accuracy, precision, recall, f1\n",
    "\n"
   ]
  },
  {
   "cell_type": "code",
   "execution_count": 14,
   "id": "e608c44b",
   "metadata": {},
   "outputs": [
    {
     "name": "stdout",
     "output_type": "stream",
     "text": [
      "Best Learning Rate: 0.001\n",
      "Best Threshold: 0.0001\n",
      "Accuracy: 0.75\n",
      "Precision: 1.0\n",
      "Recall: 0.6666666666666666\n",
      "F1 Score: 0.8\n"
     ]
    }
   ],
   "source": [
    "def tune_hyperparameters(train_data, val_data, features, label):\n",
    "    best_accuracy = 0\n",
    "    best_alpha = 0\n",
    "    best_threshold = 0\n",
    "    best_lambda = 0\n",
    "    for alpha in [0.001, 0.01, 0.1]:\n",
    "        for threshold in [0.0001, 0.001, 0.01]:\n",
    "            for lambda_reg in [0.001, 0.01, 0.1]:\n",
    "                weights, _ = main_iterate(train_data, features, label, alpha, threshold, lambda_reg)\n",
    "                predictions = predict(val_data, weights, features)\n",
    "                accuracy, _, _, _ = evaluate_metrics(val_data[label], predictions)\n",
    "                if accuracy > best_accuracy:\n",
    "                    best_accuracy = accuracy\n",
    "                    best_alpha = alpha\n",
    "                    best_threshold = threshold\n",
    "                    best_lambda = lambda_reg\n",
    "    return best_alpha, best_threshold, best_lambda\n",
    "\n",
    "train, test, val = split_data(banks)\n",
    "best_alpha, best_threshold, best_lambda = tune_hyperparameters(train, val, features_list, \"Financial Condition\")\n",
    "print(f\"Best Learning Rate: {best_alpha}\")\n",
    "print(f\"Best Threshold: {best_threshold}\")\n",
    "\n",
    "final_weights, _ = main_iterate(train, features_list, \"Financial Condition\", best_alpha, best_threshold, best_lambda)\n",
    "test_predictions = predict(test, final_weights, features_list)\n",
    "accuracy, precision, recall, f1 = evaluate_metrics(test[\"Financial Condition\"], test_predictions)\n",
    "print(f\"Accuracy: {accuracy}\")\n",
    "print(f\"Precision: {precision}\")\n",
    "print(f\"Recall: {recall}\")\n",
    "print(f\"F1 Score: {f1}\")\n"
   ]
  },
  {
   "cell_type": "code",
   "execution_count": null,
   "id": "de161e9e",
   "metadata": {},
   "outputs": [],
   "source": []
  }
 ],
 "metadata": {
  "kernelspec": {
   "display_name": "Python 3 (ipykernel)",
   "language": "python",
   "name": "python3"
  },
  "language_info": {
   "codemirror_mode": {
    "name": "ipython",
    "version": 3
   },
   "file_extension": ".py",
   "mimetype": "text/x-python",
   "name": "python",
   "nbconvert_exporter": "python",
   "pygments_lexer": "ipython3",
   "version": "3.9.13"
  }
 },
 "nbformat": 4,
 "nbformat_minor": 5
}
